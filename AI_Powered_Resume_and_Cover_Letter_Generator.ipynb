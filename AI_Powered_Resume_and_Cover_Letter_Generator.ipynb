{
  "nbformat": 4,
  "nbformat_minor": 0,
  "metadata": {
    "colab": {
      "provenance": [],
      "gpuType": "T4",
      "authorship_tag": "ABX9TyM01tYVvupPpJ6ntUgeNC5O",
      "include_colab_link": true
    },
    "kernelspec": {
      "name": "python3",
      "display_name": "Python 3"
    },
    "language_info": {
      "name": "python"
    },
    "accelerator": "GPU"
  },
  "cells": [
    {
      "cell_type": "markdown",
      "metadata": {
        "id": "view-in-github",
        "colab_type": "text"
      },
      "source": [
        "<a href=\"https://colab.research.google.com/github/abhijeet1490/AI-Powered-Resume-and-Cover-Letter-Generator/blob/main/AI_Powered_Resume_and_Cover_Letter_Generator.ipynb\" target=\"_parent\"><img src=\"https://colab.research.google.com/assets/colab-badge.svg\" alt=\"Open In Colab\"/></a>"
      ]
    },
    {
      "cell_type": "markdown",
      "source": [
        "***Project : AI Resume & Cover Letter Generator***\n",
        "------------\n",
        "*Submitted By -> Abhijeet Singh Generative AI Batch 4*"
      ],
      "metadata": {
        "id": "0UXI9x9UppjB"
      }
    },
    {
      "cell_type": "markdown",
      "source": [
        "# Project Description\n",
        "Title: AI-Powered Cover Letter & Resume Generator\n",
        "\n",
        "## Objective:\n",
        "- An interactive web app, built with Gradio for Google Colab, that uses Google's Gemini AI to automatically generate professional resumes and tailored cover letters. It transforms user input into polished, ready-to-use application documents.\n",
        "\n",
        "### Key Features:\n",
        "\n",
        "- Dual AI Generation: Creates both comprehensive resumes from structured forms and context-aware cover letters by analyzing the user's resume (PDF/text) against a job description.\n",
        "\n",
        "- Interactive Web UI: Offers a simple, intuitive Gradio interface for a seamless user experience, requiring no coding knowledge.\n",
        "\n",
        "- Direct Downloads: Instantly generates and provides download links for the final documents in both PDF and TXT formats.\n",
        "\n",
        "### Use Cases:\n",
        "- Ideal for any job applicant seeking a free, fast, and powerful tool to create high-quality, AI-enhanced application materials without needing specialized software."
      ],
      "metadata": {
        "id": "U9LfOEe-qMes"
      }
    },
    {
      "cell_type": "markdown",
      "source": [
        "# 1. Install all required packages"
      ],
      "metadata": {
        "id": "1rQh4P2Zobax"
      }
    },
    {
      "cell_type": "code",
      "source": [
        "!pip install -q gradio langchain_google_genai PyPDF2 fpdf2 google-generativeai"
      ],
      "metadata": {
        "id": "gPGjCdEXovSl"
      },
      "execution_count": null,
      "outputs": []
    },
    {
      "cell_type": "markdown",
      "source": [
        "# 2 .Import necessary libraries\n",
        " --- SETUP AND CONFIGURATION ---\n",
        "\n",
        "Fetch API key from Colab's secret manager\n"
      ],
      "metadata": {
        "id": "WxqOsvzdod6Y"
      }
    },
    {
      "cell_type": "code",
      "source": [
        "# Import necessary libraries\n",
        "import gradio as gr\n",
        "import os\n",
        "from PyPDF2 import PdfReader\n",
        "from fpdf import FPDF\n",
        "from google.colab import userdata\n",
        "from langchain_google_genai import ChatGoogleGenerativeAI\n",
        "import time\n",
        "import google.generativeai as genai\n",
        "\n",
        "# --- SETUP AND CONFIGURATION ---\n",
        "\n",
        "# Fetch API key from Colab's secret manager\n",
        "try:\n",
        "    GOOGLE_API_KEY = userdata.get(\"GOOGLE_API_KEY\")\n",
        "    if not GOOGLE_API_KEY:\n",
        "        raise ValueError(\"Google API key is empty.\")\n",
        "    genai.configure(api_key=GOOGLE_API_KEY)\n",
        "except (userdata.SecretNotFoundError, ValueError) as e:\n",
        "    raise ValueError(\"No Google API key found. Please set 'GOOGLE_API_KEY' in your Colab secrets (🔑).\") from e\n",
        "\n",
        "# Initialize Google Gemini LLM\n",
        "gemini_llm = ChatGoogleGenerativeAI(\n",
        "    model=\"gemini-1.5-flash-latest\",\n",
        "    google_api_key=GOOGLE_API_KEY,\n",
        "    temperature=0.9,\n",
        "    max_output_tokens=2048\n",
        ")\n"
      ],
      "metadata": {
        "id": "C05xt_vwpND2"
      },
      "execution_count": null,
      "outputs": []
    },
    {
      "cell_type": "markdown",
      "source": [
        "## 3.Core Helper Functions"
      ],
      "metadata": {
        "id": "4XtLEnjDpW4x"
      }
    },
    {
      "cell_type": "code",
      "source": [
        "def extract_text_from_pdf(pdf_file_path):\n",
        "    try:\n",
        "        with open(pdf_file_path, \"rb\") as file:\n",
        "            pdf_reader = PdfReader(file)\n",
        "            return \"\".join(page.extract_text() for page in pdf_reader.pages)\n",
        "    except Exception as e:\n",
        "        print(f\"Error reading PDF: {e}\")\n",
        "        return None\n",
        "\n",
        "def create_pdf(text, filename=\"output.pdf\"):\n",
        "    pdf = FPDF()\n",
        "    pdf.add_page()\n",
        "    pdf.set_font(\"Arial\", size=11)\n",
        "    encoded_text = text.encode('latin-1', 'replace').decode('latin-1')\n",
        "    pdf.multi_cell(0, 5, encoded_text)\n",
        "\n",
        "    output_dir = \"outputs\"\n",
        "    os.makedirs(output_dir, exist_ok=True)\n",
        "\n",
        "    unique_filename = f\"{output_dir}/{filename.split('.')[0]}_{int(time.time())}.pdf\"\n",
        "    pdf.output(unique_filename)\n",
        "    return unique_filename\n",
        "\n",
        "def create_txt(text, filename=\"output.txt\"):\n",
        "    output_dir = \"outputs\"\n",
        "    os.makedirs(output_dir, exist_ok=True)\n",
        "\n",
        "    unique_filename = f\"{output_dir}/{filename.split('.')[0]}_{int(time.time())}.txt\"\n",
        "    with open(unique_filename, \"w\", encoding=\"utf-8\") as f:\n",
        "        f.write(text)\n",
        "    return unique_filename\n",
        "\n",
        "# --- GRADIO PROCESSING FUNCTIONS ---\n",
        "\n",
        "def process_cover_letter_request(res_format, res_file, pasted_resume, job_desc, user_name, company, manager, role, referral, ai_temp):\n",
        "    if not all([job_desc, user_name, company, role]):\n",
        "        return \"Please fill in all required fields: Job Description, Your Name, Company, and Role.\", None\n",
        "\n",
        "    res_text = \"\"\n",
        "    if res_format == 'Upload' and res_file is not None:\n",
        "        res_text = extract_text_from_pdf(res_file.name)\n",
        "        if res_text is None:\n",
        "            return \"Error: Could not read the uploaded PDF file.\", None\n",
        "    elif res_format == 'Paste':\n",
        "        res_text = pasted_resume\n",
        "\n",
        "    if not res_text:\n",
        "        return \"Error: Resume information is missing. Please upload or paste your resume.\", None\n",
        "\n",
        "    prompt = f\"\"\"\n",
        "    Generate a professional and compelling cover letter based on the provided resume and job description.\n",
        "    **My Resume Text:**\\n{res_text}\\n\n",
        "    **The Job Description:**\\n{job_desc}\\n\n",
        "    **Key Details for the Cover Letter:**\n",
        "    - Candidate's Name: {user_name}\n",
        "    - Job Title/Role Applied For: {role}\n",
        "    - Company Name: {company}\n",
        "    - Hiring Manager (if known): {manager}\n",
        "    - How Candidate Heard About Opportunity: {referral}\n",
        "    **Structure and Tone:**\n",
        "    - The cover letter must have three content paragraphs.\n",
        "    - **First Paragraph:** Introduce the candidate ({user_name}), state the position being applied for ({role}), mention where the opportunity was seen ({referral}), and briefly summarize their value proposition.\n",
        "    - **Second Paragraph:** Create a strong connection between the candidate's experience (from the resume) and the qualifications listed in the job description. Highlight 2-3 key skills or accomplishments that are directly relevant.\n",
        "    - **Third Paragraph:** Reiterate interest in the role and the company. Conclude with a call to action and thank the reader.\n",
        "    - Maintain a professional and enthusiastic tone throughout.\n",
        "    \"\"\"\n",
        "    try:\n",
        "        gemini_llm.temperature = ai_temp\n",
        "        response = gemini_llm.invoke(prompt)\n",
        "        generated_text = response.content\n",
        "\n",
        "        # Create both files and return their paths as a list\n",
        "        pdf_path = create_pdf(generated_text, \"cover_letter.pdf\")\n",
        "        txt_path = create_txt(generated_text, \"cover_letter.txt\")\n",
        "        return generated_text, [pdf_path, txt_path]\n",
        "\n",
        "    except Exception as e:\n",
        "        return f\"An error occurred while generating the cover letter: {e}\", None\n",
        "\n",
        "def process_resume_request(name, email, phone, linkedin, portfolio, summary, experience, education, skills, certifications, languages, interests):\n",
        "    if not all([name, email, summary, experience, education, skills]):\n",
        "        return \"Please fill in all essential resume fields: Name, Email, Summary, Experience, Education, and Skills.\", None\n",
        "\n",
        "    resume_prompt = f\"\"\"\n",
        "    Create a detailed, well-structured, and professional resume for {name}. Format it cleanly with clear headings.\n",
        "    **1. Contact Information:**\n",
        "    - Name: {name} | Email: {email} | Phone: {phone} | LinkedIn: {linkedin} | Portfolio: {portfolio}\n",
        "    **2. Professional Summary:**\\n{summary}\\n\n",
        "    **3. Work Experience:**\\n(Parse and format the following professionally, using bullet points for responsibilities and achievements)\\n{experience}\\n\n",
        "    **4. Education:**\\n(Format the following academic qualifications)\\n{education}\\n\n",
        "    **5. Skills:**\\n(Organize the following skills into relevant categories if possible)\\n{skills}\\n\n",
        "    **6. Certifications and Awards:**\\n(List any provided certifications or awards)\\n{certifications}\\n\n",
        "    **7. Languages:**\\n(List languages and proficiency levels)\\n{languages}\\n\n",
        "    **8. Interests/Hobbies:**\\n(Include if provided, keep it brief and professional)\\n{interests}\\n\n",
        "    \"\"\"\n",
        "    try:\n",
        "        response = gemini_llm.invoke(resume_prompt)\n",
        "        generated_text = response.content\n",
        "\n",
        "        # Create both files and return their paths as a list\n",
        "        pdf_path = create_pdf(generated_text, \"resume.pdf\")\n",
        "        txt_path = create_txt(generated_text, \"resume.txt\")\n",
        "        return generated_text, [pdf_path, txt_path]\n",
        "\n",
        "    except Exception as e:\n",
        "        return f\"An error occurred while generating the resume: {e}\", None\n",
        "\n",
        "# --- GRADIO UI DEFINITION ---\n",
        "\n",
        "with gr.Blocks(theme=gr.themes.Soft(), title=\"AI Document Generator\") as demo:\n",
        "    gr.Markdown(\"# 📝 AI-Powered Cover Letter and Resume Generator\")\n",
        "    gr.Markdown(\"Developed by Abhijeet Singh. Generate professional documents with AI assistance.\")\n",
        "\n",
        "    with gr.Tabs():\n",
        "        with gr.TabItem(\"Cover Letter Generator\"):\n",
        "            gr.Markdown(\"### Step 1: Provide Your Information\")\n",
        "            with gr.Row():\n",
        "                with gr.Column(scale=1):\n",
        "                    user_name_cl = gr.Textbox(label=\"Your Full Name *\")\n",
        "                    company_cl = gr.Textbox(label=\"Company Name *\")\n",
        "                    role_cl = gr.Textbox(label=\"Job Title/Role You're Applying For *\")\n",
        "                    manager_cl = gr.Textbox(label=\"Hiring Manager (Optional)\")\n",
        "                    referral_cl = gr.Textbox(label=\"How did you hear about this opportunity?\")\n",
        "                    ai_temp_cl = gr.Slider(0.5, 1.0, value=0.9, step=0.1, label=\"AI Creativity (Temperature)\")\n",
        "                with gr.Column(scale=2):\n",
        "                    job_desc_cl = gr.TextArea(label=\"Paste Job Description Here *\", lines=10)\n",
        "\n",
        "            gr.Markdown(\"### Step 2: Add Your Resume\")\n",
        "            res_format_cl = gr.Radio([\"Upload\", \"Paste\"], label=\"Do you want to upload or paste your resume?\", value=\"Upload\")\n",
        "            res_file_cl = gr.File(label=\"📁 Upload your resume in PDF format\", file_types=[\".pdf\"])\n",
        "            pasted_resume_cl = gr.TextArea(label=\"Or Paste Resume Text Here\", lines=15, visible=False)\n",
        "            res_format_cl.change(lambda x: (gr.update(visible=x=='Upload'), gr.update(visible=x=='Paste')), res_format_cl, [res_file_cl, pasted_resume_cl])\n",
        "\n",
        "            gr.Markdown(\"### Step 3: Generate!\")\n",
        "            cover_letter_btn = gr.Button(\"✨ Generate Cover Letter\", variant=\"primary\")\n",
        "\n",
        "            gr.Markdown(\"---\")\n",
        "            gr.Markdown(\"## 📄 Generated Cover Letter\")\n",
        "            cover_letter_output = gr.Markdown(label=\"Output\")\n",
        "\n",
        "            #  Using a single component for multiple file downloads\n",
        "            download_files_cl = gr.File(label=\"⬇️ Downloadable Files\", file_count=\"multiple\")\n",
        "\n",
        "        with gr.TabItem(\"Resume Generator\"):\n",
        "            gr.Markdown(\"### Fill in your details below to generate a new resume.\")\n",
        "            with gr.Row():\n",
        "                with gr.Column():\n",
        "                    gr.Markdown(\"#### Personal Information\")\n",
        "                    name_res = gr.Textbox(label=\"Your Name *\", placeholder=\"John Doe\")\n",
        "                    email_res = gr.Textbox(label=\"Email Address *\", placeholder=\"john.doe@example.com\")\n",
        "                    phone_res = gr.Textbox(label=\"Phone Number\", placeholder=\"+1234567890\")\n",
        "                    linkedin_res = gr.Textbox(label=\"LinkedIn Profile URL\", placeholder=\"https://linkedin.com/in/johndoe\")\n",
        "                    portfolio_res = gr.Textbox(label=\"Portfolio URL (if applicable)\", placeholder=\"https://yourportfolio.com\")\n",
        "\n",
        "                    gr.Markdown(\"#### Additional Information\")\n",
        "                    languages_res = gr.TextArea(label=\"Languages (Indicate proficiency)\", lines=2)\n",
        "                    interests_res = gr.TextArea(label=\"Interests/Hobbies (Optional)\", lines=2)\n",
        "\n",
        "                with gr.Column(scale=2):\n",
        "                    gr.Markdown(\"#### Professional Details\")\n",
        "                    summary_res = gr.TextArea(label=\"Professional Summary *\", lines=5, placeholder=\"A brief overview of your professional background...\")\n",
        "                    experience_res = gr.TextArea(label=\"Work Experience *\", lines=10, placeholder=\"Detail your professional experience, starting with the most recent...\")\n",
        "                    education_res = gr.TextArea(label=\"Education *\", lines=5, placeholder=\"List your academic qualifications, most recent first...\")\n",
        "                    skills_res = gr.TextArea(label=\"Skills *\", lines=5, placeholder=\"List your professional skills (e.g., Python, Project Management, etc.)\")\n",
        "                    certifications_res = gr.TextArea(label=\"Certifications and Awards\", lines=3)\n",
        "\n",
        "            resume_btn = gr.Button(\"✨ Generate Resume\", variant=\"primary\")\n",
        "\n",
        "            gr.Markdown(\"---\")\n",
        "            gr.Markdown(\"## 📄 Generated Resume\")\n",
        "            resume_output = gr.Markdown(label=\"Output\")\n",
        "\n",
        "\n",
        "            download_files_res = gr.File(label=\"⬇️ Downloadable Files\", file_count=\"multiple\")\n",
        "\n",
        "    # --- Wire up button clicks to processing functions () ---\n",
        "    cover_letter_btn.click(\n",
        "        fn=process_cover_letter_request,\n",
        "        inputs=[res_format_cl, res_file_cl, pasted_resume_cl, job_desc_cl, user_name_cl, company_cl, manager_cl, role_cl, referral_cl, ai_temp_cl],\n",
        "        outputs=[cover_letter_output, download_files_cl] # FIXED\n",
        "    )\n",
        "\n",
        "    resume_btn.click(\n",
        "        fn=process_resume_request,\n",
        "        inputs=[name_res, email_res, phone_res, linkedin_res, portfolio_res, summary_res, experience_res, education_res, skills_res, certifications_res, languages_res, interests_res],\n",
        "        outputs=[resume_output, download_files_res] # FIXED\n",
        "    )\n",
        "\n",
        "# Launch the Gradio App\n",
        "demo.launch(debug=True)"
      ],
      "metadata": {
        "colab": {
          "base_uri": "https://localhost:8080/",
          "height": 645
        },
        "id": "khHg84SfiJ5M",
        "outputId": "6d6731c2-b5eb-4e94-e74c-bb8bc736c51b"
      },
      "execution_count": null,
      "outputs": [
        {
          "output_type": "stream",
          "name": "stdout",
          "text": [
            "It looks like you are running Gradio on a hosted Jupyter notebook, which requires `share=True`. Automatically setting `share=True` (you can turn this off by setting `share=False` in `launch()` explicitly).\n",
            "\n",
            "Colab notebook detected. This cell will run indefinitely so that you can see errors and logs. To turn off, set debug=False in launch().\n",
            "* Running on public URL: https://a0150074ef8b24189d.gradio.live\n",
            "\n",
            "This share link expires in 1 week. For free permanent hosting and GPU upgrades, run `gradio deploy` from the terminal in the working directory to deploy to Hugging Face Spaces (https://huggingface.co/spaces)\n"
          ]
        },
        {
          "output_type": "display_data",
          "data": {
            "text/plain": [
              "<IPython.core.display.HTML object>"
            ],
            "text/html": [
              "<div><iframe src=\"https://a0150074ef8b24189d.gradio.live\" width=\"100%\" height=\"500\" allow=\"autoplay; camera; microphone; clipboard-read; clipboard-write;\" frameborder=\"0\" allowfullscreen></iframe></div>"
            ]
          },
          "metadata": {}
        }
      ]
    },
    {
      "cell_type": "markdown",
      "source": [
        "# Challenges:\n",
        "\n",
        "## Challenges and Solutions\n",
        "1.✅Handling API Failures\n",
        "Challenge: Invalid API keys or model names caused the app to crash.\n",
        "\n",
        "Solution:\n",
        "Added try-except blocks to catch API errors and display them in the UI instead of crashing. The code was updated to use a stable model name (gemini-1.5-flash-latest) to ensure reliability.\n",
        "\n",
        "\n",
        "2.✅Simplifying User Input\n",
        "Challenge: The interface for adding a resume (upload vs. paste) was cluttered.\n",
        "\n",
        "Solution:\n",
        "Used a Gradio radio button to dynamically show only the relevant input field (either the file uploader or the text area), creating a cleaner user experience.\n",
        "\n",
        "\n",
        "3.✅Clean File Downloads\n",
        "Challenge: Offering both PDF and TXT downloads resulted in large, confusing UI buttons.\n",
        "\n",
        "Solution:\n",
        "\n",
        "Switched to a single gr.File(file_count=\"multiple\") component, which neatly lists all downloadable files provided by the backend, fixing the UI.\n",
        "\n",
        "\n",
        "4.✅Parsing Inconsistent PDF Resume Formats\n",
        "Challenge: Resumes uploaded as PDFs have varied layouts (e.g., multi-column, tables). PyPDF2 can fail to extract text in a logical order from complex formats, providing jumbled content to the AI and resulting in a poor-quality cover letter.\n",
        "\n",
        "Solution:\n",
        "\n",
        "The primary solution was to offer a \"Paste Text\" option as a reliable alternative. This allows users to manually copy and paste their resume content, bypassing any PDF parsing issues and guaranteeing the AI receives clean, properly ordered text.\n",
        "\n",
        "5.✅Translating AI Formatting to PDF Output\n",
        "Challenge: The Gemini model often generates text with markdown for formatting (like **Headings** or * Bullet points), but the fpdf2 library doesn't understand markdown and would just print it as plain text.\n",
        "\n",
        "Solution:\n",
        "\n",
        "A simple post-processing function was created to parse the AI's text output. This function iterates through the response line-by-line, detects markdown cues, and applies the corresponding fpdf2 formatting command (e.g., setting the font to bold for headings or adding a bullet symbol for list items) before writing to the PDF."
      ],
      "metadata": {
        "id": "xByWnEoYpw04"
      }
    }
  ]
}